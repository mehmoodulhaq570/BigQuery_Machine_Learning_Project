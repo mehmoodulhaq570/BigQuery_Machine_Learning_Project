{
  "cells": [
    {
      "cell_type": "markdown",
      "metadata": {
        "id": "U5JUMgc_gbHp"
      },
      "source": [
        "# CS145: Project 3 | Project Name"
      ]
    },
    {
      "cell_type": "markdown",
      "metadata": {
        "id": "EHDiv4GrhofN"
      },
      "source": [
        "## Collaborators:\n",
        "Please list the names and SUNet IDs of your collaborators below:\n",
        "* Kashif Muneer 2021-CE-34\n",
        "* Mehmood Ul Haq 2021-CE-35"
      ]
    },
    {
      "cell_type": "markdown",
      "metadata": {
        "id": "gMNQWFvSgepX"
      },
      "source": [
        "## Project Overview"
      ]
    },
    {
      "cell_type": "markdown",
      "metadata": {
        "id": "lX1Jkglwg1SI"
      },
      "source": [
        "**Description:**\n",
        "\n",
        "The goal of this project is to develop a machine learning model to predict the incident group based on London Fire Brigade service calls data. The model will use a Gradient Boosting Classifier to classify incidents into different groups, contributing to better resource allocation and incident response management.\n",
        "\n",
        "**Program Language:**\n",
        "Python\n",
        "\n",
        "**Environment:**\n",
        " Google Colab\n",
        "\n",
        "**Dataset Name:**\n",
        "London Fire Brigade Service Calls Dataset\n",
        "\n",
        "**Dataset Link:**\n",
        "[BigQuery Public Dataset: London Fire Brigade Service Calls](https://\\:console.cloud.google.com/bigquery?project=gcp-2021-ce-35&supportedpurview=project&ws=!1m10!1m4!4m3!1sbigquery-public-data!2slondon_fire_brigade!3sfire_brigade_service_calls!1m4!4m3!1sbigquery-public-data!2schicago_crime!3scrime)\n",
        "\n",
        "---\n"
      ]
    },
    {
      "cell_type": "markdown",
      "metadata": {
        "id": "DR98M_G4Tnbt"
      },
      "source": [
        "## Set Up\n",
        "**Description:** Initialize the BigQuery client and set up the project ID."
      ]
    },
    {
      "cell_type": "code",
      "execution_count": null,
      "metadata": {
        "id": "CYTX1CEATSt1"
      },
      "outputs": [],
      "source": [
        "from google.colab import auth\n",
        "auth.authenticate_user()"
      ]
    },
    {
      "cell_type": "markdown",
      "metadata": {
        "id": "srxe3sHnYZJi"
      },
      "source": [
        "**Description:** We import the necessary libraries for working with data and building machine learning models. The libraries include tools for data manipulation (pandas), model training and evaluation (scikit-learn), and handling datetime operations."
      ]
    },
    {
      "cell_type": "code",
      "execution_count": null,
      "metadata": {
        "id": "aWkEsqbqTWW5"
      },
      "outputs": [],
      "source": [
        "from google.cloud import bigquery\n",
        "import pandas as pd\n",
        "from sklearn.model_selection import train_test_split\n",
        "from sklearn.tree import DecisionTreeClassifier\n",
        "from sklearn.metrics import accuracy_score, classification_report\n",
        "project_id = \"rich-principle-407105\""
      ]
    },
    {
      "cell_type": "markdown",
      "metadata": {
        "id": "r_GvgTCcgv6N"
      },
      "source": [
        "## Analysis of Dataset"
      ]
    },
    {
      "cell_type": "markdown",
      "metadata": {
        "id": "c6wGQ8ZPgyuJ"
      },
      "source": [
        "---\n",
        "\n",
        "**Description:** Query a subset of data from BigQuery for initial analysis, load it into a DataFrame, and display a snapshot.\n",
        "\n",
        "----"
      ]
    },
    {
      "cell_type": "code",
      "execution_count": null,
      "metadata": {
        "id": "K83QMIj7RWnn"
      },
      "outputs": [],
      "source": [
        "# Replace with your Google Cloud project ID\n",
        "client = bigquery.Client(project=project_id)\n",
        "\n",
        "query = \"\"\"\n",
        "SELECT\n",
        "  incident_group,\n",
        "  borough_code,\n",
        "  date_of_call,\n",
        "  hour_of_call\n",
        "FROM\n",
        "  `bigquery-public-data.london_fire_brigade.fire_brigade_service_calls`\n",
        "ORDER BY\n",
        "  date_of_call ASC, hour_of_call ASC\n",
        "LIMIT 100\n",
        "\"\"\"\n",
        "\n",
        "df = client.query(query).to_dataframe()\n",
        "df.head()\n"
      ]
    },
    {
      "cell_type": "markdown",
      "metadata": {
        "id": "Fc_clta9g3H5"
      },
      "source": [
        "## Data Exploration"
      ]
    },
    {
      "cell_type": "markdown",
      "metadata": {
        "id": "OsMMIDrjg_YG"
      },
      "source": [
        "---\n",
        "\n",
        "**Description:** Query the complete dataset from BigQuery, preprocess it, and visualize the count of incidents by group.\n",
        "\n",
        "---"
      ]
    },
    {
      "cell_type": "code",
      "execution_count": null,
      "metadata": {
        "id": "cnx5K5D1RpWO"
      },
      "outputs": [],
      "source": [
        "# Load data from BigQuery\n",
        "query = \"\"\"\n",
        "SELECT incident_group, borough_code, date_of_call, hour_of_call\n",
        "FROM `bigquery-public-data.london_fire_brigade.fire_brigade_service_calls`\n",
        "WHERE incident_group IS NOT NULL\n",
        "\"\"\"\n",
        "df = client.query(query).to_dataframe()\n",
        "df['date_in_seconds'] = pd.to_datetime(df['date_of_call']).astype(int) // 10**9\n",
        "\n",
        "# Drop the original 'date_of_call' column as it is no longer needed\n",
        "df = df.drop(columns=['date_of_call'])\n",
        "\n",
        "# Convert categorical variables to numerical representations\n",
        "df['borough_code'] = pd.Categorical(df['borough_code']).codes\n",
        "\n",
        "# Extract features and target variable\n",
        "X = df[['borough_code', 'date_in_seconds', 'hour_of_call']]\n",
        "y = df['incident_group']"
      ]
    },
    {
      "cell_type": "markdown",
      "metadata": {
        "id": "xdtbNeetX9Gx"
      },
      "source": [
        "# Split the Dataset"
      ]
    },
    {
      "cell_type": "markdown",
      "metadata": {
        "id": "XiaQFYWQYkyq"
      },
      "source": [
        "**Description:** To evaluate the model's performance, we split the dataset into training and testing sets. The training set is used to train the model, and the testing set is used to assess its performance on unseen data. The train_test_split function from scikit-learn is commonly used for this purpose."
      ]
    },
    {
      "cell_type": "code",
      "execution_count": null,
      "metadata": {
        "id": "7FYXoViER9sH"
      },
      "outputs": [],
      "source": [
        "# Split the data into training and testing sets for prediction\n",
        "from sklearn.model_selection import train_test_split\n",
        "\n",
        "X_train, X_test, y_train, y_test = train_test_split(X, y, test_size=0.2, random_state=42)\n"
      ]
    },
    {
      "cell_type": "markdown",
      "metadata": {
        "id": "NhFSJifsiC1U"
      },
      "source": [
        "## Data Prediction"
      ]
    },
    {
      "cell_type": "markdown",
      "metadata": {
        "id": "ofeY7XQuyhOU"
      },
      "source": [
        "---\n",
        "\n",
        "**Description:** Extract features and target variable for prediction, split the data, train a Gradient Boosting model, make predictions, and evaluate the model.\n",
        "\n",
        "**Model:** Gradient Boosting Regressor.\n",
        "\n",
        "**Task:**  Predict the response time of the Fire Brigade based on input features.\n",
        "\n",
        "---"
      ]
    },
    {
      "cell_type": "code",
      "execution_count": null,
      "metadata": {
        "id": "U3ONcGikS1wQ"
      },
      "outputs": [],
      "source": [
        "from sklearn.ensemble import GradientBoostingClassifier\n",
        "from sklearn.metrics import accuracy_score, classification_report\n",
        "\n",
        "# Create and train the Gradient Boosting model\n",
        "gb_model = GradientBoostingClassifier(random_state=42)\n",
        "gb_model.fit(X_train, y_train)\n",
        "\n",
        "# Make predictions on the test set\n",
        "y_pred_gb = gb_model.predict(X_test)\n",
        "\n",
        "# Evaluate the model\n",
        "accuracy_gb = accuracy_score(y_test, y_pred_gb)\n",
        "print(f\"Accuracy (Gradient Boosting): {accuracy_gb:.2f}\")\n",
        "print(\"Classification Report (Gradient Boosting):\\n\", classification_report(y_test, y_pred_gb))"
      ]
    },
    {
      "cell_type": "markdown",
      "metadata": {
        "id": "Dg7Lhqi_yDcy"
      },
      "source": [
        "## Conclusion"
      ]
    },
    {
      "cell_type": "markdown",
      "metadata": {
        "id": "YmVpTigjyHMY"
      },
      "source": [
        "---\n",
        "\n",
        "This conclusion addresses the model's performance, identifies key findings, provides recommendations for improvement, , and emphasizes the importance of ongoing refinement for better results.\n",
        "\n",
        "---"
      ]
    },
    {
      "cell_type": "code",
      "execution_count": null,
      "metadata": {
        "id": "nXQx3K2IUhVx"
      },
      "outputs": [],
      "source": [
        "# Section 6: Conclusion\n",
        "\n",
        "# General Observations\n",
        "print(\"General Observations:\")\n",
        "print(\"- The initial data analysis provided a snapshot of the dataset, including key features.\")\n",
        "\n",
        "# Prediction Results\n",
        "print(\"\\nPrediction Results:\")\n",
        "print(f\"- The Gradient Boosting model achieved an accuracy of {accuracy_gb:.2f} on the test set.\")\n",
        "print(\"- The classification report provides detailed metrics for each incident group, indicating strengths and areas for improvement.\")\n",
        "print(\"   - Classification Report:\\n\", classification_report(y_test, y_pred_gb))\n",
        "\n",
        "# Implications for Fire Brigade Operations\n",
        "print(\"\\nImplications for Fire Brigade Operations:\")\n",
        "print(\"- Predictive models can assist in anticipating incident types and response times, enhancing operational efficiency.\")\n",
        "\n",
        "# Concluding Remarks\n",
        "print(\"\\nConcluding Remarks:\")\n",
        "print(\"- The analysis and prediction serve as valuable tools for enhancing decision-making within the Fire Brigade.\")\n",
        "\n",
        "# Note: Replace placeholders (e.g., {accuracy_gb:.2f}) with actual values obtained during the analysis.\n"
      ]
    },
    {
      "cell_type": "markdown",
      "metadata": {
        "id": "c-8R1mVrVQFf"
      },
      "source": [
        "## Visualization"
      ]
    },
    {
      "cell_type": "markdown",
      "metadata": {
        "id": "HcJ_vNBbVqHZ"
      },
      "source": [
        "---\n",
        "The visualization code in the below code creates a bar graph showing the count of incidents for each incident group. This graph helps visualize the distribution of incidents across different groups, providing insights into the frequency of each type of incident in your dataset.\n",
        "\n",
        "---"
      ]
    },
    {
      "cell_type": "code",
      "execution_count": null,
      "metadata": {
        "id": "mT9xjH4IThvY"
      },
      "outputs": [],
      "source": [
        "import pandas as pd\n",
        "import matplotlib.pyplot as plt\n",
        "\n",
        "# Assuming you have already loaded the data into the 'df' DataFrame\n",
        "\n",
        "# Count the occurrences of each incident group\n",
        "incident_counts = df['incident_group'].value_counts()\n",
        "\n",
        "# Plotting the bar graph\n",
        "plt.figure(figsize=(6, 6))\n",
        "incident_counts.plot(kind='bar', color='skyblue')\n",
        "plt.title('Count of Incidents by Incident Group')\n",
        "plt.xlabel('Incident Group')\n",
        "plt.ylabel('Count')\n",
        "plt.xticks(rotation=45, ha='right')  # Rotate x-axis labels for better visibility\n",
        "plt.show()\n"
      ]
    },
    {
      "cell_type": "markdown",
      "metadata": {},
      "source": [
        "---\n",
        "**Explanation:**\n",
        "\n",
        "This code displaying model performance metrics.\n",
        "The accuracy and a detailed classification report (precision, recall, F1-score, etc.) for the Gradient Boosting model are printed.\n",
        "These metrics provide insights into how well the model is performing in predicting incident groups.\n",
        "\n",
        "---"
      ]
    },
    {
      "cell_type": "code",
      "execution_count": null,
      "metadata": {},
      "outputs": [],
      "source": [
        "import seaborn as sns\n",
        "import matplotlib.pyplot as plt\n",
        "# Visualize temporal patterns using seaborn\n",
        "#------\n",
        "df = client.query(query).to_dataframe()\n",
        "df['date_in_seconds'] = pd.to_datetime(df['date_of_call']).astype(int) // 10**9\n",
        "\n",
        "# Drop the original 'date_of_call' column as it is no longer needed\n",
        "df = df.drop(columns=['date_of_call'])\n",
        "\n",
        "# Convert categorical variables to numerical representations\n",
        "df['borough_code'] = pd.Categorical(df['borough_code']).codes\n",
        "#-----\n",
        "plt.figure(figsize=(12, 6))\n",
        "sns.lineplot(x=df['date_in_seconds'], y=df['hour_of_call'], hue=df['incident_group'])\n",
        "plt.title('Temporal Patterns of Incident Groups')\n",
        "plt.xlabel('Date in Seconds')\n",
        "plt.ylabel('Hour of Call')\n",
        "plt.show()\n"
      ]
    },
    {
      "cell_type": "markdown",
      "metadata": {},
      "source": [
        "---\n",
        "**Explanation:**\n",
        "\n",
        "This code addresses Research Question 2 by visualizing temporal patterns of incident groups over time.\n",
        "The seaborn library is used to create a line plot showing the relationship between date_in_seconds and hour_of_call, with different colors indicating different incident groups.\n",
        "The plot helps explore if there are specific patterns or trends in incidents based on the time of the call.\n",
        "\n",
        "---"
      ]
    },
    {
      "cell_type": "code",
      "execution_count": null,
      "metadata": {},
      "outputs": [],
      "source": [
        "# Visualize the influence of borough on incident groups\n",
        "plt.figure(figsize=(12, 6))\n",
        "sns.countplot(x='borough_code', hue='incident_group', data=df)\n",
        "plt.title('Incident Groups by Borough')\n",
        "plt.xlabel('Borough Code')\n",
        "plt.ylabel('Count')\n",
        "plt.show()\n"
      ]
    },
    {
      "cell_type": "markdown",
      "metadata": {},
      "source": [
        "---\n",
        "**Explanation:**\n",
        "\n",
        "This code addresses Research Question 3 by visualizing the influence of borough on incident groups.\n",
        "The seaborn library is used to create a count plot showing the distribution of incident groups within each borough (borough_code).\n",
        "The plot helps explore how incident groups are distributed across different boroughs.\n",
        "\n",
        "---"
      ]
    }
  ],
  "metadata": {
    "colab": {
      "provenance": []
    },
    "kernelspec": {
      "display_name": "Python 3",
      "name": "python3"
    }
  },
  "nbformat": 4,
  "nbformat_minor": 0
}
